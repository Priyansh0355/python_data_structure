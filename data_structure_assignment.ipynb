{
 "cells": [
  {
   "cell_type": "markdown",
   "metadata": {},
   "source": [
    "Q1:Write a code to reverse a string."
   ]
  },
  {
   "cell_type": "code",
   "execution_count": 5,
   "metadata": {},
   "outputs": [
    {
     "data": {
      "text/plain": [
       "'sllikswp'"
      ]
     },
     "execution_count": 5,
     "metadata": {},
     "output_type": "execute_result"
    }
   ],
   "source": [
    "s = \"pwskills\"\n",
    "s[::-1]"
   ]
  },
  {
   "cell_type": "markdown",
   "metadata": {},
   "source": [
    "Q2:Write acode to count the number of vowels in a string"
   ]
  },
  {
   "cell_type": "code",
   "execution_count": 8,
   "metadata": {},
   "outputs": [
    {
     "name": "stdout",
     "output_type": "stream",
     "text": [
      "3\n"
     ]
    }
   ],
   "source": [
    "f = \"Hello World\"\n",
    "\n",
    "vowels = \"aeiouAEIOU\"\n",
    "\n",
    "vowel_count=0\n",
    "\n",
    "for char in f:\n",
    "    if char in vowels:\n",
    "        vowel_count+=1\n",
    "\n",
    "print(vowel_count)\n",
    "\n"
   ]
  },
  {
   "cell_type": "markdown",
   "metadata": {},
   "source": [
    "Q3: Write a code to cheek if ' given string is a palindrome or not."
   ]
  },
  {
   "cell_type": "code",
   "execution_count": 10,
   "metadata": {},
   "outputs": [
    {
     "name": "stdout",
     "output_type": "stream",
     "text": [
      "the string is a palindrome.\n"
     ]
    }
   ],
   "source": [
    "input_word = \"rotator\"\n",
    "\n",
    "input_word_normalized = input_word.replace(\" \",\"\").lower()\n",
    "\n",
    "is_palindrome = input_word_normalized == input_word[::-1]\n",
    "\n",
    "if is_palindrome:\n",
    "    print(\"the string is a palindrome.\")\n",
    "else:\n",
    "    print(\"the string is not palindrome.\")"
   ]
  },
  {
   "cell_type": "markdown",
   "metadata": {},
   "source": [
    "Q4:Write a code to check if two given strings are anagrams of each other."
   ]
  },
  {
   "cell_type": "code",
   "execution_count": 11,
   "metadata": {},
   "outputs": [
    {
     "name": "stdout",
     "output_type": "stream",
     "text": [
      "The strings are anagrams of each other.\n"
     ]
    }
   ],
   "source": [
    "string1 = \"listen\"\n",
    "string2 = \"silent\"\n",
    "\n",
    "\n",
    "normalized_string1 = string1.replace(\" \", \"\").lower()\n",
    "normalized_string2 = string2.replace(\" \", \"\").lower()\n",
    "\n",
    "\n",
    "are_anagrams = sorted(normalized_string1) == sorted(normalized_string2)\n",
    "\n",
    "if are_anagrams:\n",
    "    print(\"The strings are anagrams of each other.\")\n",
    "else:\n",
    "    print(\"The strings are not anagrams of each other.\")"
   ]
  },
  {
   "cell_type": "markdown",
   "metadata": {},
   "source": [
    "Q5:Write a code to find all occurrences of a given substring within another string."
   ]
  },
  {
   "cell_type": "code",
   "execution_count": 13,
   "metadata": {},
   "outputs": [
    {
     "name": "stdout",
     "output_type": "stream",
     "text": [
      "Positions of occurrences: [16, 39]\n"
     ]
    }
   ],
   "source": [
    "main_string = \"This is a first string. This is second string.\"\n",
    "substring = \"string\"\n",
    "\n",
    "positions = []\n",
    "\n",
    "start = 0\n",
    "\n",
    "while True:\n",
    "    start = main_string.find(substring, start)\n",
    "    \n",
    "    if start == -1:\n",
    "        break\n",
    "    positions.append(start)\n",
    " \n",
    "    start += len(substring)\n",
    "\n",
    "print(\"Positions of occurrences:\", positions)\n"
   ]
  },
  {
   "cell_type": "markdown",
   "metadata": {},
   "source": [
    "Q6:Write a code to perform basic string compression using the counts of repeated characters."
   ]
  },
  {
   "cell_type": "code",
   "execution_count": 14,
   "metadata": {},
   "outputs": [
    {
     "name": "stdout",
     "output_type": "stream",
     "text": [
      "Compressed string: a3b3c2d1a2\n"
     ]
    }
   ],
   "source": [
    "input_string = \"aaabbbccdaa\"\n",
    "\n",
    "compressed_string = \"\"\n",
    "\n",
    "count = 1\n",
    "\n",
    "for i in range(1, len(input_string)):\n",
    "    \n",
    "    if input_string[i] == input_string[i - 1]:\n",
    "        count += 1\n",
    "    else:\n",
    "        compressed_string += input_string[i - 1] + str(count)\n",
    "        count = 1 \n",
    "\n",
    "compressed_string += input_string[-1] + str(count)\n",
    "\n",
    "print(\"Compressed string:\", compressed_string)"
   ]
  },
  {
   "cell_type": "markdown",
   "metadata": {},
   "source": [
    "Q7:Write a code to determine if a string has all unique characters."
   ]
  },
  {
   "cell_type": "code",
   "execution_count": 15,
   "metadata": {},
   "outputs": [
    {
     "name": "stdout",
     "output_type": "stream",
     "text": [
      "The string has all unique characters.\n"
     ]
    }
   ],
   "source": [
    "input_string = \"abcdefg\"\n",
    "\n",
    "seen_characters = set()\n",
    "\n",
    "has_unique_characters = True\n",
    "for char in input_string:\n",
    "    if char in seen_characters:\n",
    "        has_unique_characters = False\n",
    "        break\n",
    "    seen_characters.add(char)\n",
    "\n",
    "if has_unique_characters:\n",
    "    print(\"The string has all unique characters.\")\n",
    "else:\n",
    "    print(\"The string does not have all unique characters.\")\n"
   ]
  },
  {
   "cell_type": "markdown",
   "metadata": {},
   "source": [
    "Q8:Write a code to convert a given string to uppercase or lowercase."
   ]
  },
  {
   "cell_type": "code",
   "execution_count": 16,
   "metadata": {},
   "outputs": [
    {
     "name": "stdout",
     "output_type": "stream",
     "text": [
      "Uppercase: HELLO, WORLD!\n",
      "Lowercase: hello, world!\n"
     ]
    }
   ],
   "source": [
    "input_string = \"Hello, World!\"\n",
    "\n",
    "uppercase_string = input_string.upper()\n",
    "print(\"Uppercase:\", uppercase_string)\n",
    "\n",
    "lowercase_string = input_string.lower()\n",
    "print(\"Lowercase:\", lowercase_string)"
   ]
  },
  {
   "cell_type": "markdown",
   "metadata": {},
   "source": [
    "Q9:Write a code to count the number of words in a string."
   ]
  },
  {
   "cell_type": "code",
   "execution_count": 17,
   "metadata": {},
   "outputs": [
    {
     "name": "stdout",
     "output_type": "stream",
     "text": [
      "Number of words: 8\n"
     ]
    }
   ],
   "source": [
    "input_string = \"This is an example string with several words.\"\n",
    "\n",
    "words = input_string.split()\n",
    "\n",
    "number_of_words = len(words)\n",
    "\n",
    "print(\"Number of words:\", number_of_words)"
   ]
  },
  {
   "cell_type": "markdown",
   "metadata": {},
   "source": [
    "Q10: Write a code to concatenate two strings without using the + operator.    "
   ]
  },
  {
   "cell_type": "code",
   "execution_count": 19,
   "metadata": {},
   "outputs": [
    {
     "name": "stdout",
     "output_type": "stream",
     "text": [
      "Concatenated string: Hello, World!\n"
     ]
    }
   ],
   "source": [
    "string1 = \"Hello, \"\n",
    "string2 = \"World!\"\n",
    "\n",
    "concatenated_string = ''.join([string1, string2])\n",
    "\n",
    "print(\"Concatenated string:\", concatenated_string)\n"
   ]
  },
  {
   "cell_type": "markdown",
   "metadata": {},
   "source": [
    "Q11:Write a code to remove all occurrences of a specific element from a list."
   ]
  },
  {
   "cell_type": "code",
   "execution_count": 20,
   "metadata": {},
   "outputs": [
    {
     "name": "stdout",
     "output_type": "stream",
     "text": [
      "List after removal: [1, 3, 4, 5]\n"
     ]
    }
   ],
   "source": [
    "my_list = [1, 2, 3, 4, 2, 5, 2]\n",
    "element_to_remove = 2\n",
    "\n",
    "filtered_list = [item for item in my_list if item != element_to_remove]\n",
    "\n",
    "print(\"List after removal:\", filtered_list)\n"
   ]
  },
  {
   "cell_type": "markdown",
   "metadata": {},
   "source": [
    "Q12:Implement a code to find the second largest number in a given list of integers.\n"
   ]
  },
  {
   "cell_type": "code",
   "execution_count": 21,
   "metadata": {},
   "outputs": [
    {
     "name": "stdout",
     "output_type": "stream",
     "text": [
      "The second largest number is: 15\n"
     ]
    }
   ],
   "source": [
    "numbers = [10, 5, 20, 4, 20, 15]\n",
    "\n",
    "unique_numbers = sorted(set(numbers), reverse=True)\n",
    "\n",
    "if len(unique_numbers) >= 2:\n",
    "    second_largest = unique_numbers[1]\n",
    "    print(\"The second largest number is:\", second_largest)\n",
    "else:\n",
    "    print(\"Not enough unique numbers to determine the second largest.\")"
   ]
  },
  {
   "cell_type": "markdown",
   "metadata": {},
   "source": [
    "Q13: Create a code to count the occurrences of each element in a list and return a dictionary with elements as key and their counts as values"
   ]
  },
  {
   "cell_type": "code",
   "execution_count": 22,
   "metadata": {},
   "outputs": [
    {
     "name": "stdout",
     "output_type": "stream",
     "text": [
      "Occurrences of each element: {1: 1, 2: 2, 3: 1, 4: 3, 5: 1}\n"
     ]
    }
   ],
   "source": [
    "elements = [1, 2, 2, 3, 4, 4, 4, 5]\n",
    "\n",
    "count_dict = {}\n",
    "\n",
    "for element in elements:\n",
    "    if element in count_dict:\n",
    "        count_dict[element] += 1\n",
    "    else:\n",
    "        count_dict[element] = 1\n",
    "\n",
    "print(\"Occurrences of each element:\", count_dict)\n"
   ]
  },
  {
   "cell_type": "markdown",
   "metadata": {},
   "source": [
    "Q14:Write a code to reverse a list in-place without using any built-in reverse functions."
   ]
  },
  {
   "cell_type": "code",
   "execution_count": 24,
   "metadata": {},
   "outputs": [
    {
     "name": "stdout",
     "output_type": "stream",
     "text": [
      "Reversed list: [6, 5, 4, 3, 2, 1]\n"
     ]
    }
   ],
   "source": [
    "my_list = [1, 2, 3, 4, 5,6]\n",
    "\n",
    "start = 0\n",
    "end = len(my_list) - 1\n",
    "\n",
    "while start < end:\n",
    " \n",
    "    my_list[start], my_list[end] = my_list[end], my_list[start]\n",
    "    \n",
    "    start += 1\n",
    "    end -= 1\n",
    "\n",
    "print(\"Reversed list:\", my_list)\n"
   ]
  },
  {
   "cell_type": "markdown",
   "metadata": {},
   "source": [
    "Q15: Implement a code to find and remove duplicates from a list while preserving the original order of elements."
   ]
  },
  {
   "cell_type": "code",
   "execution_count": 25,
   "metadata": {},
   "outputs": [
    {
     "name": "stdout",
     "output_type": "stream",
     "text": [
      "List with duplicates removed: [1, 2, 3, 4, 5, 6]\n"
     ]
    }
   ],
   "source": [
    "original_list = [1, 2, 3, 2, 4, 5, 3, 6, 4]\n",
    "\n",
    "seen = set()\n",
    "unique_list = []\n",
    "\n",
    "for item in original_list:\n",
    "    if item not in seen:\n",
    "        unique_list.append(item) \n",
    "        seen.add(item)       \n",
    "\n",
    "print(\"List with duplicates removed:\", unique_list)\n"
   ]
  },
  {
   "cell_type": "markdown",
   "metadata": {},
   "source": [
    "Q16:Create a code to check if a given list is sorted (either in ascending r descending order) or not."
   ]
  },
  {
   "cell_type": "code",
   "execution_count": 26,
   "metadata": {},
   "outputs": [
    {
     "name": "stdout",
     "output_type": "stream",
     "text": [
      "The list is sorted in ascending order.\n"
     ]
    }
   ],
   "source": [
    "my_list = [1, 2, 3, 4, 5]  \n",
    "\n",
    "is_ascending = all(my_list[i] <= my_list[i + 1] for i in range(len(my_list) - 1))\n",
    "\n",
    "is_descending = all(my_list[i] >= my_list[i + 1] for i in range(len(my_list) - 1))\n",
    "\n",
    "if is_ascending:\n",
    "    print(\"The list is sorted in ascending order.\")\n",
    "elif is_descending:\n",
    "    print(\"The list is sorted in descending order.\")\n",
    "else:\n",
    "    print(\"The list is not sorted.\")"
   ]
  },
  {
   "cell_type": "markdown",
   "metadata": {},
   "source": [
    "Q17:  Write a code to merge two sorted lists into a single sorted list."
   ]
  },
  {
   "cell_type": "code",
   "execution_count": 29,
   "metadata": {},
   "outputs": [
    {
     "name": "stdout",
     "output_type": "stream",
     "text": [
      "Merged list: [1, 2, 4, 6, 8, 9, 11, 12]\n"
     ]
    }
   ],
   "source": [
    "list1 = [1, 9, 11, 12]\n",
    "list2 = [2, 4, 6, 8]\n",
    "\n",
    "i, j = 0, 0\n",
    "merged_list = []\n",
    "\n",
    "while i < len(list1) and j < len(list2):\n",
    "    if list1[i] < list2[j]:\n",
    "        merged_list.append(list1[i])\n",
    "        i += 1\n",
    "    else:\n",
    "        merged_list.append(list2[j])\n",
    "        j += 1\n",
    "\n",
    "while i < len(list1):\n",
    "    merged_list.append(list1[i])\n",
    "    i += 1\n",
    "\n",
    "while j < len(list2):\n",
    "    merged_list.append(list2[j])\n",
    "    j += 1\n",
    "\n",
    "print(\"Merged list:\", merged_list)\n"
   ]
  },
  {
   "cell_type": "markdown",
   "metadata": {},
   "source": [
    "Q18:  Implement a code to find the intersection of two given lists."
   ]
  },
  {
   "cell_type": "code",
   "execution_count": 30,
   "metadata": {},
   "outputs": [
    {
     "name": "stdout",
     "output_type": "stream",
     "text": [
      "Intersection of the two lists: [4, 5]\n"
     ]
    }
   ],
   "source": [
    "list1 = [1, 2, 3, 4, 5]\n",
    "list2 = [4, 5, 6, 7, 8]\n",
    "\n",
    "intersection_list = [item for item in list1 if item in list2]\n",
    "\n",
    "intersection_list = list(set(intersection_list))\n",
    "\n",
    "print(\"Intersection of the two lists:\", intersection_list)\n"
   ]
  },
  {
   "cell_type": "markdown",
   "metadata": {},
   "source": [
    "Q19:  Create a code to find the union of two lists without duplicates.\n"
   ]
  },
  {
   "cell_type": "code",
   "execution_count": 31,
   "metadata": {},
   "outputs": [
    {
     "name": "stdout",
     "output_type": "stream",
     "text": [
      "Union of the two lists: [1, 2, 3, 4, 5, 6, 7, 8]\n"
     ]
    }
   ],
   "source": [
    "list1 = [1, 2, 3, 4, 5]\n",
    "list2 = [4, 5, 6, 7, 8]\n",
    "\n",
    "set1 = set(list1)\n",
    "set2 = set(list2)\n",
    "\n",
    "union_set = set1 | set2\n",
    "\n",
    "union_list = list(union_set)\n",
    "\n",
    "print(\"Union of the two lists:\", union_list)"
   ]
  },
  {
   "cell_type": "markdown",
   "metadata": {},
   "source": [
    "Q20: Write a code to shuffle a given list randonly without using any built-in shuffle functions."
   ]
  },
  {
   "cell_type": "code",
   "execution_count": 33,
   "metadata": {},
   "outputs": [
    {
     "name": "stdout",
     "output_type": "stream",
     "text": [
      "Shuffled list: [4, 5, 1, 2, 3]\n"
     ]
    }
   ],
   "source": [
    "import random\n",
    "\n",
    "my_list = [1, 2, 3, 4, 5]\n",
    "\n",
    "n = len(my_list)\n",
    "for i in range(n - 1, 0, -1):\n",
    "\n",
    "    j = random.randint(0, i)\n",
    "    \n",
    "    my_list[i], my_list[j] = my_list[j], my_list[i]\n",
    "\n",
    "print(\"Shuffled list:\", my_list)\n"
   ]
  },
  {
   "cell_type": "code",
   "execution_count": null,
   "metadata": {},
   "outputs": [],
   "source": []
  }
 ],
 "metadata": {
  "kernelspec": {
   "display_name": "Python 3",
   "language": "python",
   "name": "python3"
  },
  "language_info": {
   "codemirror_mode": {
    "name": "ipython",
    "version": 3
   },
   "file_extension": ".py",
   "mimetype": "text/x-python",
   "name": "python",
   "nbconvert_exporter": "python",
   "pygments_lexer": "ipython3",
   "version": "3.11.4"
  }
 },
 "nbformat": 4,
 "nbformat_minor": 2
}
